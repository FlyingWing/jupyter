{
 "cells": [
  {
   "cell_type": "code",
   "execution_count": 96,
   "metadata": {
    "ExecuteTime": {
     "end_time": "2019-06-11T08:06:08.954034Z",
     "start_time": "2019-06-11T08:06:08.945327Z"
    }
   },
   "outputs": [],
   "source": [
    "import pandas as pd\n",
    "import numpy as np\n",
    "import datetime\n",
    "import matplotlib.pyplot as plt\n",
    "%matplotlib inline"
   ]
  },
  {
   "cell_type": "code",
   "execution_count": 168,
   "metadata": {
    "ExecuteTime": {
     "end_time": "2019-06-12T12:22:43.529959Z",
     "start_time": "2019-06-12T12:22:43.521740Z"
    }
   },
   "outputs": [],
   "source": [
    "def dateDiff(date1, date2):\n",
    "    if date1 > date2:\n",
    "        difDays = datetime.datetime.strptime(date1, \"%Y-%m-%d\") - datetime.datetime.strptime(date2, \"%Y-%m-%d\")\n",
    "    else:\n",
    "        difDays = datetime.datetime.strptime(date2, \"%Y-%m-%d\") - datetime.datetime.strptime(date1, \"%Y-%m-%d\")\n",
    "    return difDays.days"
   ]
  },
  {
   "cell_type": "code",
   "execution_count": 229,
   "metadata": {
    "ExecuteTime": {
     "end_time": "2019-06-12T13:42:47.856553Z",
     "start_time": "2019-06-12T13:42:47.851436Z"
    }
   },
   "outputs": [],
   "source": [
    "def monthDiff(date1, date2):\n",
    "    date1 = datetime.datetime.strptime(date1, \"%Y-%m-%d\") \n",
    "    date2 = datetime.datetime.strptime(date2, \"%Y-%m\")\n",
    "    months = (date1.year - date2.year) * 12 + date1.month - date2.month\n",
    "    return months"
   ]
  },
  {
   "cell_type": "code",
   "execution_count": 228,
   "metadata": {
    "ExecuteTime": {
     "end_time": "2019-06-12T13:42:34.430270Z",
     "start_time": "2019-06-12T13:42:34.426189Z"
    }
   },
   "outputs": [
    {
     "data": {
      "text/plain": [
       "12"
      ]
     },
     "execution_count": 228,
     "metadata": {},
     "output_type": "execute_result"
    }
   ],
   "source": [
    "MonthDiff(\"2018-07-09\", \"2017-07\")"
   ]
  },
  {
   "cell_type": "code",
   "execution_count": 28,
   "metadata": {
    "ExecuteTime": {
     "end_time": "2019-06-10T12:50:15.726544Z",
     "start_time": "2019-06-10T12:50:15.722730Z"
    }
   },
   "outputs": [
    {
     "data": {
      "text/plain": [
       "0"
      ]
     },
     "execution_count": 28,
     "metadata": {},
     "output_type": "execute_result"
    }
   ],
   "source": [
    "dateDiff(\"2018-07-09\", \"2018-07-09\")"
   ]
  },
  {
   "cell_type": "code",
   "execution_count": 14,
   "metadata": {
    "ExecuteTime": {
     "end_time": "2019-06-10T12:23:06.453078Z",
     "start_time": "2019-06-10T12:23:05.139232Z"
    }
   },
   "outputs": [],
   "source": [
    "BASE_PATH = \"~/Downloads/kaggle/paipaidai/data/\"\n",
    "train_data = pd.read_csv(BASE_PATH + \"train.csv\", na_values=\"\\\\N\")\n",
    "test_data = pd.read_csv(BASE_PATH + \"test.csv\", na_values=\"\\\\N\")"
   ]
  },
  {
   "cell_type": "code",
   "execution_count": 15,
   "metadata": {
    "ExecuteTime": {
     "end_time": "2019-06-10T12:23:07.829780Z",
     "start_time": "2019-06-10T12:23:07.825328Z"
    }
   },
   "outputs": [
    {
     "data": {
      "text/plain": [
       "((1000000, 7), (130000, 5))"
      ]
     },
     "execution_count": 15,
     "metadata": {},
     "output_type": "execute_result"
    }
   ],
   "source": [
    "train_data.shape, test_data.shape"
   ]
  },
  {
   "cell_type": "code",
   "execution_count": 17,
   "metadata": {
    "ExecuteTime": {
     "end_time": "2019-06-10T12:23:27.977464Z",
     "start_time": "2019-06-10T12:23:27.960398Z"
    }
   },
   "outputs": [
    {
     "data": {
      "text/plain": [
       "117192"
      ]
     },
     "execution_count": 17,
     "metadata": {},
     "output_type": "execute_result"
    }
   ],
   "source": [
    "train_data['repay_amt'].isnull().sum()"
   ]
  },
  {
   "cell_type": "code",
   "execution_count": 65,
   "metadata": {
    "ExecuteTime": {
     "end_time": "2019-06-11T03:50:29.009935Z",
     "start_time": "2019-06-11T03:50:28.638019Z"
    }
   },
   "outputs": [],
   "source": [
    "sub_train_data = train_data[~ train_data.repay_date.isnull()]"
   ]
  },
  {
   "cell_type": "code",
   "execution_count": 41,
   "metadata": {
    "ExecuteTime": {
     "end_time": "2019-06-10T12:58:42.889999Z",
     "start_time": "2019-06-10T12:58:42.885232Z"
    }
   },
   "outputs": [
    {
     "data": {
      "text/plain": [
       "user_id            int64\n",
       "listing_id         int64\n",
       "auditing_date     object\n",
       "due_date          object\n",
       "due_amt          float64\n",
       "repay_date        object\n",
       "repay_amt        float64\n",
       "dtype: object"
      ]
     },
     "execution_count": 41,
     "metadata": {},
     "output_type": "execute_result"
    }
   ],
   "source": [
    "sub_train_data.dtypes"
   ]
  },
  {
   "cell_type": "code",
   "execution_count": 66,
   "metadata": {
    "ExecuteTime": {
     "end_time": "2019-06-11T03:51:24.808709Z",
     "start_time": "2019-06-11T03:50:30.989101Z"
    }
   },
   "outputs": [
    {
     "name": "stderr",
     "output_type": "stream",
     "text": [
      "/Users/lkjin/anaconda3/lib/python3.7/site-packages/ipykernel_launcher.py:1: SettingWithCopyWarning: \n",
      "A value is trying to be set on a copy of a slice from a DataFrame.\n",
      "Try using .loc[row_indexer,col_indexer] = value instead\n",
      "\n",
      "See the caveats in the documentation: http://pandas.pydata.org/pandas-docs/stable/indexing.html#indexing-view-versus-copy\n",
      "  \"\"\"Entry point for launching an IPython kernel.\n",
      "/Users/lkjin/anaconda3/lib/python3.7/site-packages/ipykernel_launcher.py:2: SettingWithCopyWarning: \n",
      "A value is trying to be set on a copy of a slice from a DataFrame.\n",
      "Try using .loc[row_indexer,col_indexer] = value instead\n",
      "\n",
      "See the caveats in the documentation: http://pandas.pydata.org/pandas-docs/stable/indexing.html#indexing-view-versus-copy\n",
      "  \n"
     ]
    }
   ],
   "source": [
    "sub_train_data['diff_date'] = sub_train_data.apply(lambda row:dateDiff(row['due_date'], row['repay_date']), axis=1)\n",
    "sub_train_data['diff_amt'] = sub_train_data.apply(lambda row:row['repay_amt'] - row['due_amt'], axis=1)"
   ]
  },
  {
   "cell_type": "code",
   "execution_count": 76,
   "metadata": {
    "ExecuteTime": {
     "end_time": "2019-06-11T07:30:41.617804Z",
     "start_time": "2019-06-11T07:30:41.614805Z"
    }
   },
   "outputs": [],
   "source": [
    "def audit_order(sub_train_data):\n",
    "    sub_train_data = sub_train_data.sort_values(['user_id', 'listing_id'])\n",
    "    sub_train_data['group_rank'] = sub_train_data[[\"user_id\", \"listing_id\"]].groupby([\"user_id\"]).rank(method=\"min\")\n",
    "    return sub_train_data"
   ]
  },
  {
   "cell_type": "code",
   "execution_count": 193,
   "metadata": {
    "ExecuteTime": {
     "end_time": "2019-06-12T12:54:03.894755Z",
     "start_time": "2019-06-12T12:54:02.400199Z"
    }
   },
   "outputs": [
    {
     "data": {
      "text/plain": [
       "(1012808, 6)"
      ]
     },
     "execution_count": 193,
     "metadata": {},
     "output_type": "execute_result"
    }
   ],
   "source": [
    "test_min = test_data.listing_id.min()\n",
    "train_max = sub_train_data.listing_id.max()\n",
    "data = pd.concat([sub_train_data[list(test_data.columns)], test_data])\n",
    "new_data = audit_order(data)\n",
    "new_data.shape"
   ]
  },
  {
   "cell_type": "code",
   "execution_count": 194,
   "metadata": {
    "ExecuteTime": {
     "end_time": "2019-06-12T12:54:16.947397Z",
     "start_time": "2019-06-12T12:54:10.512650Z"
    }
   },
   "outputs": [
    {
     "data": {
      "text/plain": [
       "(1012808, 9)"
      ]
     },
     "execution_count": 194,
     "metadata": {},
     "output_type": "execute_result"
    }
   ],
   "source": [
    "listing_info = pd.read_csv(BASE_PATH + \"listing_info.csv\", na_values=\"\\\\N\")\n",
    "new_data = new_data.merge(listing_info, on=['user_id', 'listing_id', 'auditing_date'], how=\"inner\")\n",
    "new_data.shape"
   ]
  },
  {
   "cell_type": "code",
   "execution_count": 196,
   "metadata": {
    "ExecuteTime": {
     "end_time": "2019-06-12T12:56:26.145082Z",
     "start_time": "2019-06-12T12:55:36.708887Z"
    }
   },
   "outputs": [],
   "source": [
    "user_info = pd.read_csv(BASE_PATH + \"user_info.csv\", na_values=\"\\\\N\")\n",
    "new_data = new_data.merge(user_info, on=[\"user_id\"], how=\"left\")\n",
    "\n",
    "new_data['diff_days'] = new_data.apply(lambda row: dateDiff(row['auditing_date'], row['insertdate']), axis=1)\n",
    "new_data['diff_min'] = new_data.groupby(\"listing_id\")['diff_days'].transform(\"min\")\n",
    "\n",
    "new_data = new_data[(new_data['diff_days'] == new_data['diff_min'])].sort_values(['listing_id', 'insertdate']).drop_duplicates(\"listing_id\")\n",
    "new_data.shape"
   ]
  },
  {
   "cell_type": "code",
   "execution_count": 219,
   "metadata": {
    "ExecuteTime": {
     "end_time": "2019-06-12T13:30:44.914559Z",
     "start_time": "2019-06-12T13:30:44.854147Z"
    }
   },
   "outputs": [
    {
     "data": {
      "text/html": [
       "<div>\n",
       "<style scoped>\n",
       "    .dataframe tbody tr th:only-of-type {\n",
       "        vertical-align: middle;\n",
       "    }\n",
       "\n",
       "    .dataframe tbody tr th {\n",
       "        vertical-align: top;\n",
       "    }\n",
       "\n",
       "    .dataframe thead th {\n",
       "        text-align: right;\n",
       "    }\n",
       "</style>\n",
       "<table border=\"1\" class=\"dataframe\">\n",
       "  <thead>\n",
       "    <tr style=\"text-align: right;\">\n",
       "      <th></th>\n",
       "      <th>user_id</th>\n",
       "      <th>listing_id</th>\n",
       "      <th>auditing_date</th>\n",
       "      <th>due_date</th>\n",
       "      <th>due_amt</th>\n",
       "      <th>group_rank</th>\n",
       "      <th>term</th>\n",
       "      <th>rate</th>\n",
       "      <th>principal</th>\n",
       "      <th>reg_mon</th>\n",
       "      <th>gender</th>\n",
       "      <th>age</th>\n",
       "      <th>cell_province</th>\n",
       "      <th>id_province</th>\n",
       "      <th>id_city</th>\n",
       "      <th>insertdate</th>\n",
       "      <th>diff_days</th>\n",
       "      <th>diff_min</th>\n",
       "    </tr>\n",
       "  </thead>\n",
       "  <tbody>\n",
       "    <tr>\n",
       "      <th>507476</th>\n",
       "      <td>438081</td>\n",
       "      <td>1873193</td>\n",
       "      <td>2018-01-01</td>\n",
       "      <td>2018-02-01</td>\n",
       "      <td>97.3003</td>\n",
       "      <td>1.0</td>\n",
       "      <td>9</td>\n",
       "      <td>7.2</td>\n",
       "      <td>850</td>\n",
       "      <td>2017-03</td>\n",
       "      <td>女</td>\n",
       "      <td>34</td>\n",
       "      <td>c28</td>\n",
       "      <td>c28</td>\n",
       "      <td>c28005</td>\n",
       "      <td>2017-12-31</td>\n",
       "      <td>1</td>\n",
       "      <td>1</td>\n",
       "    </tr>\n",
       "    <tr>\n",
       "      <th>790711</th>\n",
       "      <td>679097</td>\n",
       "      <td>1873199</td>\n",
       "      <td>2018-01-01</td>\n",
       "      <td>2018-02-01</td>\n",
       "      <td>200.8172</td>\n",
       "      <td>1.0</td>\n",
       "      <td>6</td>\n",
       "      <td>7.2</td>\n",
       "      <td>1180</td>\n",
       "      <td>2017-10</td>\n",
       "      <td>男</td>\n",
       "      <td>23</td>\n",
       "      <td>c04</td>\n",
       "      <td>c25</td>\n",
       "      <td>c25121</td>\n",
       "      <td>2017-12-31</td>\n",
       "      <td>1</td>\n",
       "      <td>1</td>\n",
       "    </tr>\n",
       "    <tr>\n",
       "      <th>579416</th>\n",
       "      <td>498924</td>\n",
       "      <td>1873205</td>\n",
       "      <td>2018-01-01</td>\n",
       "      <td>2018-02-01</td>\n",
       "      <td>226.6526</td>\n",
       "      <td>1.0</td>\n",
       "      <td>9</td>\n",
       "      <td>7.2</td>\n",
       "      <td>1980</td>\n",
       "      <td>2017-05</td>\n",
       "      <td>女</td>\n",
       "      <td>26</td>\n",
       "      <td>c06</td>\n",
       "      <td>c06</td>\n",
       "      <td>c06266</td>\n",
       "      <td>2017-12-31</td>\n",
       "      <td>1</td>\n",
       "      <td>1</td>\n",
       "    </tr>\n",
       "    <tr>\n",
       "      <th>394198</th>\n",
       "      <td>342463</td>\n",
       "      <td>1873207</td>\n",
       "      <td>2018-01-01</td>\n",
       "      <td>2018-02-01</td>\n",
       "      <td>125.9181</td>\n",
       "      <td>1.0</td>\n",
       "      <td>9</td>\n",
       "      <td>7.2</td>\n",
       "      <td>1100</td>\n",
       "      <td>2016-12</td>\n",
       "      <td>男</td>\n",
       "      <td>22</td>\n",
       "      <td>c31</td>\n",
       "      <td>c31</td>\n",
       "      <td>c31255</td>\n",
       "      <td>2017-12-31</td>\n",
       "      <td>1</td>\n",
       "      <td>1</td>\n",
       "    </tr>\n",
       "    <tr>\n",
       "      <th>341889</th>\n",
       "      <td>297792</td>\n",
       "      <td>1873212</td>\n",
       "      <td>2018-01-01</td>\n",
       "      <td>2018-02-01</td>\n",
       "      <td>163.3767</td>\n",
       "      <td>1.0</td>\n",
       "      <td>6</td>\n",
       "      <td>7.2</td>\n",
       "      <td>960</td>\n",
       "      <td>2016-10</td>\n",
       "      <td>女</td>\n",
       "      <td>28</td>\n",
       "      <td>c27</td>\n",
       "      <td>c27</td>\n",
       "      <td>c27330</td>\n",
       "      <td>2017-12-31</td>\n",
       "      <td>1</td>\n",
       "      <td>1</td>\n",
       "    </tr>\n",
       "  </tbody>\n",
       "</table>\n",
       "</div>"
      ],
      "text/plain": [
       "        user_id  listing_id auditing_date    due_date   due_amt  group_rank  \\\n",
       "507476   438081     1873193    2018-01-01  2018-02-01   97.3003         1.0   \n",
       "790711   679097     1873199    2018-01-01  2018-02-01  200.8172         1.0   \n",
       "579416   498924     1873205    2018-01-01  2018-02-01  226.6526         1.0   \n",
       "394198   342463     1873207    2018-01-01  2018-02-01  125.9181         1.0   \n",
       "341889   297792     1873212    2018-01-01  2018-02-01  163.3767         1.0   \n",
       "\n",
       "        term  rate  principal  reg_mon gender  age cell_province id_province  \\\n",
       "507476     9   7.2        850  2017-03      女   34           c28         c28   \n",
       "790711     6   7.2       1180  2017-10      男   23           c04         c25   \n",
       "579416     9   7.2       1980  2017-05      女   26           c06         c06   \n",
       "394198     9   7.2       1100  2016-12      男   22           c31         c31   \n",
       "341889     6   7.2        960  2016-10      女   28           c27         c27   \n",
       "\n",
       "       id_city  insertdate  diff_days  diff_min  \n",
       "507476  c28005  2017-12-31          1         1  \n",
       "790711  c25121  2017-12-31          1         1  \n",
       "579416  c06266  2017-12-31          1         1  \n",
       "394198  c31255  2017-12-31          1         1  \n",
       "341889  c27330  2017-12-31          1         1  "
      ]
     },
     "execution_count": 219,
     "metadata": {},
     "output_type": "execute_result"
    }
   ],
   "source": [
    "new_data.head()"
   ]
  },
  {
   "cell_type": "code",
   "execution_count": 220,
   "metadata": {
    "ExecuteTime": {
     "end_time": "2019-06-12T13:32:51.659781Z",
     "start_time": "2019-06-12T13:32:51.652560Z"
    }
   },
   "outputs": [],
   "source": [
    "features = ['due_amt', 'group_rank', 'term', 'rate', 'principal']"
   ]
  },
  {
   "cell_type": "code",
   "execution_count": null,
   "metadata": {
    "ExecuteTime": {
     "start_time": "2019-06-12T13:43:18.887Z"
    }
   },
   "outputs": [],
   "source": [
    "# 用户注册时间和成交时间相隔月数\n",
    "new_data['use_month'] = new_data.apply(lambda row:monthDiff(row['auditing_date'], row['reg_mon']), axis=1)"
   ]
  },
  {
   "cell_type": "code",
   "execution_count": null,
   "metadata": {},
   "outputs": [],
   "source": []
  }
 ],
 "metadata": {
  "kernelspec": {
   "display_name": "Python 3",
   "language": "python",
   "name": "python3"
  },
  "language_info": {
   "codemirror_mode": {
    "name": "ipython",
    "version": 3
   },
   "file_extension": ".py",
   "mimetype": "text/x-python",
   "name": "python",
   "nbconvert_exporter": "python",
   "pygments_lexer": "ipython3",
   "version": "3.7.0"
  },
  "toc": {
   "base_numbering": 1,
   "nav_menu": {},
   "number_sections": true,
   "sideBar": true,
   "skip_h1_title": false,
   "title_cell": "Table of Contents",
   "title_sidebar": "Contents",
   "toc_cell": false,
   "toc_position": {},
   "toc_section_display": true,
   "toc_window_display": false
  },
  "varInspector": {
   "cols": {
    "lenName": 16,
    "lenType": 16,
    "lenVar": 40
   },
   "kernels_config": {
    "python": {
     "delete_cmd_postfix": "",
     "delete_cmd_prefix": "del ",
     "library": "var_list.py",
     "varRefreshCmd": "print(var_dic_list())"
    },
    "r": {
     "delete_cmd_postfix": ") ",
     "delete_cmd_prefix": "rm(",
     "library": "var_list.r",
     "varRefreshCmd": "cat(var_dic_list()) "
    }
   },
   "types_to_exclude": [
    "module",
    "function",
    "builtin_function_or_method",
    "instance",
    "_Feature"
   ],
   "window_display": false
  }
 },
 "nbformat": 4,
 "nbformat_minor": 2
}
